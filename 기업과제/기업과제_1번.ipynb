{
  "nbformat": 4,
  "nbformat_minor": 0,
  "metadata": {
    "colab": {
      "name": "기업과제 1번.ipynb",
      "provenance": [],
      "collapsed_sections": []
    },
    "kernelspec": {
      "name": "python3",
      "display_name": "Python 3"
    },
    "language_info": {
      "name": "python"
    }
  },
  "cells": [
    {
      "cell_type": "markdown",
      "source": [
        "#문자열 매칭 알고리즘 구현\n",
        "\n",
        "문자열 집합 S가 존재한다 ex) S = {\"www\",\"xman\",\"yman\"}. 임의의 문자열이 N개 주어졌\n",
        "을때 각 임의의 문자열 내에 집합 S에 속하는 문자열이 존재하는지 판별하시오.\n",
        "\n",
        "아래의 문제를 순서대로 작성하세요. 1번만 푸셔도 됩니다.\n",
        "1. 문자열의 여러 부분 문자열 중 하나라도 집합 S에 있으면 'YES'를 출력하고, 아무것도\n",
        "없으면 'NO'를 출력한다.\n",
        "2. 주어진 문자열의 여러부분 문자열 중 처음 매칭된 패턴과 문자열 시작 포지션을 출력한\n",
        "다.\n",
        "3. 주어진 문자열의 여러부분 문자열 중 매칭 가능한 모든 패턴과 문자열 시작 포지션을 출\n",
        "력한다.\n",
        "\n",
        "##입력<br>\n",
        "첫째 줄에 집합 S의 크기 N이 주어진다. (1 ≤ N ≤ 1000)\n",
        "다음 N개 줄에 집합 S의 원소들이 주어진다. 이 문자열의 길이는 100을 넘지 않는다.\n",
        "다음 줄에 답을 판별해야 하는 문자열의 개수 Q가 주어진다. (1 ≤ Q ≤ 1000)\n",
        "다음 Q개 줄에 답을 판별해야 하는 문자열이 주어진다. 이 문자열의 길이는 10000을 넘지\n",
        "않는다.\n",
        "입력으로 주어지는 모든 문자열은 알파벳 소문자로만 이루어져 있다.\n",
        "\n",
        "##출력<br>\n",
        "Q개 줄에 각 문자열에 대한 답을 출력한다."
      ],
      "metadata": {
        "id": "iWXAo_Bur8HD"
      }
    },
    {
      "cell_type": "markdown",
      "source": [
        "#해설\n",
        "\n",
        "이번 문제는 문자열 매칭 알고리즘을 대입하여 쉽게 해결 가능 한 문제로 파악됩니다.<br>\n",
        "이번 문제의 해답으로 사용 될 알고리즘은 KMP알고리즘 입니다.\n",
        "\n",
        "KMP알고리즘은 prefix와 suffix를 정의 한 뒤 Pi배열(전체 문자 i번째 에서 prefix와 suffix가 같을 수 있는 최대 길이를 정리한 배열)을 계산 하고 비교 과정에 불일치 할 경우 불일치가 발견 되기 직전까지 같았던 배열을 다시 비교 하지않고 점프하여 넘어서 검색을 진행하는 방식입니다. 이렇게 비교의 개수를 줄이고 효율을 높이자는 취지의 알고리즘 입니다.\n"
      ],
      "metadata": {
        "id": "0Gf-0EM1scjJ"
      }
    },
    {
      "cell_type": "code",
      "source": [
        "def getPi(pattern):\n",
        "    pi = [0] * len(pattern)\n",
        "    j=0\n",
        "    for i in range(1, len(pi)):\n",
        "        while j > 0 and pattern[i] != pattern[j]:\n",
        "            j = pi[j - 1]\n",
        "        if pattern[i] == pattern[j]:\n",
        "            j += 1\n",
        "            pi[i] = j\n",
        "    return pi\n",
        "\n",
        "\n",
        "def kmp(word, pattern):\n",
        "    pi = getPi(pattern)\n",
        "    results = []\n",
        "    j=0\n",
        "    for i in range(len(word)):\n",
        "        while j > 0 and word[i] != pattern[j]:\n",
        "            j = pi[j - 1]\n",
        "        if word[i] == pattern[j]:\n",
        "            if j==len(pattern)-1:\n",
        "                results.append(i-len(pattern)+1)\n",
        "                j=pi[j]\n",
        "            else:\n",
        "                j+=1\n",
        "    return results"
      ],
      "metadata": {
        "id": "z78BN_KAvh9F"
      },
      "execution_count": null,
      "outputs": []
    },
    {
      "cell_type": "code",
      "source": [
        "#S= set([\"aaa\", \"aaaabb\", \"aabbcc\", \"abb\", \"bcc\", \"bbcc\", \"aabbccdd\", \"aaabb\", \"cccd\"])\n",
        "#N = [\"aaaabbaabbccdd\", \"aabdaacdanbbacaaa\"]\n",
        "S = []\n",
        "N = []\n",
        "S_len = int(input(\"집합 S의 크기를 입력하세요\"))\n",
        "\n",
        "for i in range(S_len):\n",
        "  S.append(input(f\"집합 S의 {i}번째 원소를 입력하세요\"))\n",
        "\n",
        "S = set(S)\n",
        "\n",
        "N_len = int(input(\"N의 크기를 입력하세요\"))\n",
        "a\n",
        "for i in range(N_len):\n",
        "  N.append(input(f\"집합 N의 {i}번째 원소를 입력하세요\"))\n"
      ],
      "metadata": {
        "id": "TPl0JAMdPpr7",
        "colab": {
          "base_uri": "https://localhost:8080/"
        },
        "outputId": "f831e46c-9d73-47e8-dd6f-308bb46cb06b"
      },
      "execution_count": null,
      "outputs": [
        {
          "name": "stdout",
          "output_type": "stream",
          "text": [
            "집합 S의 크기를 입력하세요9\n",
            "집합 S의 0번째 원소를 입력하세요aaa\n",
            "집합 S의 1번째 원소를 입력하세요aaaabb\n",
            "집합 S의 2번째 원소를 입력하세요aabbcc\n",
            "집합 S의 3번째 원소를 입력하세요abb\n",
            "집합 S의 4번째 원소를 입력하세요bcc\n",
            "집합 S의 5번째 원소를 입력하세요bbcc\n",
            "집합 S의 6번째 원소를 입력하세요aabbccdd\n",
            "집합 S의 7번째 원소를 입력하세요aaabb\n",
            "집합 S의 8번째 원소를 입력하세요cccd\n",
            "N의 크기를 입력하세요1\n",
            "집합 N의 0번째 원소를 입력하세요aaaabbaabbccdd\n"
          ]
        }
      ]
    },
    {
      "cell_type": "code",
      "source": [
        "S"
      ],
      "metadata": {
        "colab": {
          "base_uri": "https://localhost:8080/"
        },
        "id": "_XVcSae7xYKI",
        "outputId": "b345c388-8b6d-4345-fd40-9866ef037d09"
      },
      "execution_count": null,
      "outputs": [
        {
          "output_type": "execute_result",
          "data": {
            "text/plain": [
              "{'aaa', 'aaaabb', 'aaabb', 'aabbcc', 'aabbccdd', 'abb', 'bbcc', 'bcc', 'cccd'}"
            ]
          },
          "metadata": {},
          "execution_count": 33
        }
      ]
    },
    {
      "cell_type": "code",
      "source": [
        "N"
      ],
      "metadata": {
        "colab": {
          "base_uri": "https://localhost:8080/"
        },
        "id": "k1X3d1EEy4HC",
        "outputId": "62f77a90-d524-4c14-fbc2-2b1182ce12be"
      },
      "execution_count": null,
      "outputs": [
        {
          "output_type": "execute_result",
          "data": {
            "text/plain": [
              "['aaaabbaabbccdd']"
            ]
          },
          "metadata": {},
          "execution_count": 34
        }
      ]
    },
    {
      "cell_type": "code",
      "source": [
        "#1번 문제\n",
        "for i in N:\n",
        "  print(f\"비교 N : {i}\")\n",
        "  print(list(S))\n",
        "  print([\"YES\" if x in i else \"NO\" for x in S])"
      ],
      "metadata": {
        "colab": {
          "base_uri": "https://localhost:8080/"
        },
        "id": "2NAiMJAgzhUK",
        "outputId": "6041fde0-a40d-481b-faa4-ef66f5a60f1d"
      },
      "execution_count": null,
      "outputs": [
        {
          "output_type": "stream",
          "name": "stdout",
          "text": [
            "비교 N : aaaabbaabbccdd\n",
            "['bcc', 'aabbccdd', 'aaabb', 'cccd', 'abb', 'bbcc', 'aaaabb', 'aaa', 'aabbcc']\n",
            "['YES', 'YES', 'YES', 'NO', 'YES', 'YES', 'YES', 'YES', 'YES']\n"
          ]
        }
      ]
    },
    {
      "cell_type": "code",
      "source": [
        "#2번 문제\n",
        "answer = []\n",
        "\n",
        "for i in N:\n",
        "  temp = []\n",
        "  for j in S:\n",
        "    temp.append([j, kmp(i, j)])\n",
        "  answer.append(temp)\n",
        "\n",
        "for i in range(len(answer)):\n",
        "  answer[i] = [[x, y] for x, y in answer[i] if y != []]\n",
        "\n",
        "for idx, i in enumerate(answer):\n",
        "  print(f\"------{N[idx]}----------\")\n",
        "  for j in i:\n",
        "    print(f\"pos = {j[1][0]}, pattern = {j[0]}\")"
      ],
      "metadata": {
        "colab": {
          "base_uri": "https://localhost:8080/"
        },
        "id": "kDDzc2apPql8",
        "outputId": "dd254adb-5e18-4155-9c96-f02e6c6ba0d0"
      },
      "execution_count": null,
      "outputs": [
        {
          "output_type": "stream",
          "name": "stdout",
          "text": [
            "------aaaabbaabbccdd----------\n",
            "pos = 9, pattern = bcc\n",
            "pos = 10, pattern = ccdd\n",
            "pos = 6, pattern = aabbccdd\n",
            "pos = 1, pattern = aaabb\n",
            "pos = 3, pattern = abb\n",
            "pos = 8, pattern = bbcc\n",
            "pos = 0, pattern = aaa\n",
            "pos = 6, pattern = aabbcc\n"
          ]
        }
      ]
    },
    {
      "cell_type": "code",
      "source": [
        "#3번 문제\n",
        "answer = []\n",
        "\n",
        "for i in N:\n",
        "  temp = []\n",
        "  for j in S:\n",
        "    temp.append([j, kmp(i, j)])\n",
        "  answer.append(temp)\n",
        "\n",
        "for i in range(len(answer)):\n",
        "  answer[i] = [[x, y] for x, y in answer[i] if y != []]\n",
        "\n",
        "for idx, i in enumerate(answer):\n",
        "  print(f\"------{N[idx]}----------\")\n",
        "  for j in i:\n",
        "    for k in j[1]:\n",
        "      print(f\"pos = {k}, pattern = {j[0]}\")"
      ],
      "metadata": {
        "colab": {
          "base_uri": "https://localhost:8080/"
        },
        "id": "fOwperMmvlK8",
        "outputId": "4ad54263-b026-44f0-9031-400265085368"
      },
      "execution_count": null,
      "outputs": [
        {
          "output_type": "stream",
          "name": "stdout",
          "text": [
            "------aaaabbaabbccdd----------\n",
            "pos = 9, pattern = bcc\n",
            "pos = 10, pattern = ccdd\n",
            "pos = 6, pattern = aabbccdd\n",
            "pos = 1, pattern = aaabb\n",
            "pos = 3, pattern = abb\n",
            "pos = 7, pattern = abb\n",
            "pos = 8, pattern = bbcc\n",
            "pos = 0, pattern = aaa\n",
            "pos = 1, pattern = aaa\n",
            "pos = 6, pattern = aabbcc\n"
          ]
        }
      ]
    },
    {
      "cell_type": "code",
      "source": [
        ""
      ],
      "metadata": {
        "id": "FaAULNpVzEGl"
      },
      "execution_count": null,
      "outputs": []
    }
  ]
}