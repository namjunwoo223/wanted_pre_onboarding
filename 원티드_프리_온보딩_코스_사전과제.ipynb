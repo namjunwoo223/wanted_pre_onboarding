{
  "nbformat": 4,
  "nbformat_minor": 0,
  "metadata": {
    "colab": {
      "name": "wanted_preonboarding_test.ipynb",
      "provenance": [],
      "authorship_tag": "ABX9TyNF3MErDh9NcI3UTFu1+xcQ",
      "include_colab_link": true
    },
    "kernelspec": {
      "name": "python3",
      "display_name": "Python 3"
    },
    "language_info": {
      "name": "python"
    }
  },
  "cells": [
    {
      "cell_type": "markdown",
      "metadata": {
        "id": "view-in-github",
        "colab_type": "text"
      },
      "source": [
        "<a href=\"https://colab.research.google.com/github/namjunwoo223/wanted_pre_onboarding/blob/main/wanted_preonboarding_test.ipynb\" target=\"_parent\"><img src=\"https://colab.research.google.com/assets/colab-badge.svg\" alt=\"Open In Colab\"/></a>"
      ]
    },
    {
      "cell_type": "code",
      "execution_count": 1,
      "metadata": {
        "id": "lHPH9pV9hN5_"
      },
      "outputs": [],
      "source": [
        "import re\n",
        "from math import log\n",
        "from itertools import chain\n",
        "\n",
        "class Tokenizer():\n",
        "  def __init__(self):\n",
        "    self.word_dict = {'oov': 0}\n",
        "    self.fit_checker = False\n",
        "  \n",
        "  def preprocessing(self, sequences):\n",
        "    result = []\n",
        "    temp = list(map(lambda x : re.sub(\"[^a-zA-Z0-9]\", \" \", x.lower()).split(\" \"), sequences))\n",
        "\n",
        "    for i in temp:\n",
        "      result.append([x for x in i if x != ''])\n",
        "\n",
        "    return result\n",
        "    \n",
        "  def fit(self, sequences):\n",
        "    self.fit_checker = False\n",
        "    \n",
        "    words_set = set(chain(*self.preprocessing(sequences)))\n",
        "    \n",
        "    for idx, i in enumerate(words_set):\n",
        "        self.word_dict[i] = idx+1\n",
        "    \n",
        "    self.fit_checker = True\n",
        "  \n",
        "  def transform(self, sequences):\n",
        "    result = []\n",
        "    tokens = self.preprocessing(sequences)\n",
        "    \n",
        "    if self.fit_checker:\n",
        "        for i in tokens:\n",
        "            result.append(list(map(lambda x : self.word_dict[x], i)))\n",
        "        return result\n",
        "    else:\n",
        "        raise Exception(\"Tokenizer instance is not fitted yet.\")\n",
        "      \n",
        "  def fit_transform(self, sequences):\n",
        "    self.fit(sequences)\n",
        "    result = self.transform(sequences)\n",
        " \n",
        "    return result\n",
        "\n",
        "class TfidfVectorizer:\n",
        "    def __init__(self, tokenizer):\n",
        "      self.tokenizer = tokenizer\n",
        "      self.fit_checker = False\n",
        "      self.idf_mat = None\n",
        "      self.tfidf_matrix = []\n",
        "      \n",
        "    def fit(self, sequences):\n",
        "        tokenized = self.tokenizer.fit_transform(sequences)\n",
        "        toknized_list = list(chain(*tokenized))\n",
        "        n = len(tokenized)\n",
        "        \n",
        "        idf = [0 for x in range(len(set(toknized_list)))]\n",
        "        \n",
        "        for i in tokenized:\n",
        "            for j in set(i):\n",
        "                idf[j-1] += 1\n",
        "\n",
        "        for i in range(len(idf)):\n",
        "            idf[i] = log(n/(1+idf[i])) #idf[i] == df(d,t)\n",
        "        print(idf)\n",
        "        self.idf_mat = idf\n",
        "        self.fit_checker = True\n",
        "    \n",
        "    def transform(self, sequences):\n",
        "        if self.fit_checker:\n",
        "            tokenized = self.tokenizer.transform(sequences)\n",
        "\n",
        "            for i in tokenized:\n",
        "                temp = []\n",
        "                for j in i:\n",
        "                    temp.append(i.count(j) * self.idf_mat[j-1]) #tf * idf\n",
        "                \n",
        "                self.tfidf_matrix.append(temp)\n",
        "            \n",
        "            return self.tfidf_matrix\n",
        "        else:  \n",
        "            raise Exception(\"TfidfVectorizer instance is not fitted yet.\")\n",
        "          \n",
        "    \n",
        "    def fit_transform(self, sequences):\n",
        "        self.fit(sequences)\n",
        "        return self.transform(sequences)"
      ]
    },
    {
      "cell_type": "code",
      "source": [
        "lst = ['I go to school.', 'I LIKE pizza!']"
      ],
      "metadata": {
        "id": "TiIekP64hYJo"
      },
      "execution_count": 2,
      "outputs": []
    },
    {
      "cell_type": "code",
      "source": [
        "#Tokenizer 1번 문제\n",
        "tok = Tokenizer()\n",
        "tok.preprocessing(lst)"
      ],
      "metadata": {
        "colab": {
          "base_uri": "https://localhost:8080/"
        },
        "id": "eXJtaWQgDmLg",
        "outputId": "13cbea89-c868-4744-e953-0ab5d7166efe"
      },
      "execution_count": 3,
      "outputs": [
        {
          "output_type": "execute_result",
          "data": {
            "text/plain": [
              "[['i', 'go', 'to', 'school'], ['i', 'like', 'pizza']]"
            ]
          },
          "metadata": {},
          "execution_count": 3
        }
      ]
    },
    {
      "cell_type": "code",
      "source": [
        "#Tokenizer 2번 문제\n",
        "tok = Tokenizer()\n",
        "tok.fit(lst)\n",
        "tok.word_dict"
      ],
      "metadata": {
        "colab": {
          "base_uri": "https://localhost:8080/"
        },
        "id": "ZDjYxcQNhQ8k",
        "outputId": "60cef23d-c514-4126-c8ea-c4c2b61342b9"
      },
      "execution_count": 4,
      "outputs": [
        {
          "output_type": "execute_result",
          "data": {
            "text/plain": [
              "{'go': 4, 'i': 1, 'like': 3, 'oov': 0, 'pizza': 5, 'school': 6, 'to': 2}"
            ]
          },
          "metadata": {},
          "execution_count": 4
        }
      ]
    },
    {
      "cell_type": "code",
      "source": [
        "#Tokenizer 3번 문제\n",
        "tok = Tokenizer()\n",
        "tok.fit(lst)\n",
        "tok.transform(lst)"
      ],
      "metadata": {
        "colab": {
          "base_uri": "https://localhost:8080/"
        },
        "id": "fP0hQ9mcD6wg",
        "outputId": "4b912f2b-2c5e-4c76-c2cd-8a60d89454fd"
      },
      "execution_count": 5,
      "outputs": [
        {
          "output_type": "execute_result",
          "data": {
            "text/plain": [
              "[[1, 4, 2, 6], [1, 3, 5]]"
            ]
          },
          "metadata": {},
          "execution_count": 5
        }
      ]
    },
    {
      "cell_type": "code",
      "source": [
        "#TF-IDF 1번 문제\n",
        "tok = Tokenizer()\n",
        "tfidf = TfidfVectorizer(tok)\n",
        "tfidf.fit(lst)"
      ],
      "metadata": {
        "colab": {
          "base_uri": "https://localhost:8080/"
        },
        "id": "zDFlbREghUDK",
        "outputId": "d92d39b9-eb6d-47da-ded2-53a35508c05f"
      },
      "execution_count": 6,
      "outputs": [
        {
          "output_type": "stream",
          "name": "stdout",
          "text": [
            "[-0.40546510810816444, 0.0, 0.0, 0.0, 0.0, 0.0]\n"
          ]
        }
      ]
    },
    {
      "cell_type": "code",
      "source": [
        "#TF-IDF 2번 문제\n",
        "tok = Tokenizer()\n",
        "tfidf = TfidfVectorizer(tok)\n",
        "tfidf.fit(lst)\n",
        "tfidf.transform(lst)\n"
      ],
      "metadata": {
        "colab": {
          "base_uri": "https://localhost:8080/"
        },
        "id": "JuIYdAytEX6c",
        "outputId": "30a63ce8-3491-4d8a-e18e-8080332c8867"
      },
      "execution_count": 7,
      "outputs": [
        {
          "output_type": "stream",
          "name": "stdout",
          "text": [
            "[-0.40546510810816444, 0.0, 0.0, 0.0, 0.0, 0.0]\n"
          ]
        },
        {
          "output_type": "execute_result",
          "data": {
            "text/plain": [
              "[[-0.40546510810816444, 0.0, 0.0, 0.0], [-0.40546510810816444, 0.0, 0.0]]"
            ]
          },
          "metadata": {},
          "execution_count": 7
        }
      ]
    },
    {
      "cell_type": "code",
      "source": [
        ""
      ],
      "metadata": {
        "id": "-dNZTQGPEfsC"
      },
      "execution_count": 7,
      "outputs": []
    }
  ]
}
